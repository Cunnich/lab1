{
  "nbformat": 4,
  "nbformat_minor": 0,
  "metadata": {
    "colab": {
      "provenance": []
    },
    "kernelspec": {
      "name": "python3",
      "display_name": "Python 3"
    },
    "language_info": {
      "name": "python"
    }
  },
  "cells": [
    {
      "cell_type": "markdown",
      "source": [
        "#Задача 1\n",
        "Написать функцию на вход которой подается строка, состоящая из латинских букв.\n",
        "Функция должна вернуть количество гласных букв (a, e, i, o, u) в этой строке. Написать тесты для кода"
      ],
      "metadata": {
        "id": "M-DGa20PaHnu"
      }
    },
    {
      "cell_type": "code",
      "source": [
        "def count_vowels(text):\n",
        "  vowels = \"aeiouyAEIOUY\"\n",
        "  count = 0\n",
        "  for char in text:\n",
        "    if char in vowels:\n",
        "      count += 1\n",
        "  return count\n",
        "\n",
        "# Тесты\n",
        "assert count_vowels(\"hello\") == 2\n",
        "assert count_vowels(\"world\") == 1\n",
        "assert count_vowels(\"aeiouy\") == 6\n",
        "assert count_vowels(\"AEIOUY\") == 6\n",
        "assert count_vowels(\"bcdfghjklmnpqrstvwxyz\") == 1\n",
        "\n",
        "print(\"Все тесты пройдены успешно!\")"
      ],
      "metadata": {
        "id": "XvX8X_JJ6PCb",
        "colab": {
          "base_uri": "https://localhost:8080/"
        },
        "outputId": "fa33539b-1823-4301-f033-16f603eb5f7f"
      },
      "execution_count": 18,
      "outputs": [
        {
          "output_type": "stream",
          "name": "stdout",
          "text": [
            "Все тесты пройдены успешно!\n"
          ]
        }
      ]
    },
    {
      "cell_type": "markdown",
      "source": [
        "# Задача 2\n",
        "Написать функцию на вход, которой подается строка. Функция должна вернуть true, если\n",
        "каждый символ в строке встречается только 1 раз, иначе должна вернуть false. Написать тесты для кода"
      ],
      "metadata": {
        "id": "t2ClV_Y0bbr6"
      }
    },
    {
      "cell_type": "code",
      "source": [
        "def is_unique_chars(text):\n",
        "  for i in range(len(text)):\n",
        "    for j in range(i + 1, len(text)):\n",
        "      if text[i] == text[j]:\n",
        "        return False\n",
        "  return True\n",
        "\n",
        "# Тесты\n",
        "assert is_unique_chars(\"abcde\") == True\n",
        "assert is_unique_chars(\"abbcde\") == False\n",
        "assert is_unique_chars(\"a\") == True\n",
        "assert is_unique_chars(\"aa\") == False\n",
        "assert is_unique_chars(\"\") == True\n",
        "assert is_unique_chars(\"abcdefghijklmnopqrstuvwxyz\") == True\n",
        "\n",
        "print(\"Все тесты пройдены успешно!\")"
      ],
      "metadata": {
        "id": "FppbECao6VIz",
        "colab": {
          "base_uri": "https://localhost:8080/"
        },
        "outputId": "e9ee47fa-e7b4-49ad-f712-c39a9fb428d1"
      },
      "execution_count": 15,
      "outputs": [
        {
          "output_type": "stream",
          "name": "stdout",
          "text": [
            "Все тесты пройдены успешно!\n"
          ]
        }
      ]
    },
    {
      "cell_type": "markdown",
      "source": [
        "# Задача 3\n",
        "Написать функцию, которая принимает положительное число и возвращает количество\n",
        "бит равных 1 в этом числе. Написать тесты для кода"
      ],
      "metadata": {
        "id": "udRiIK1cdt6E"
      }
    },
    {
      "cell_type": "code",
      "source": [
        "def count_bits(n):\n",
        "  count = 0\n",
        "  while n:\n",
        "    count += n & 1\n",
        "    n >>= 1\n",
        "  return count\n",
        "\n",
        "# Тесты\n",
        "assert count_bits(0) == 0\n",
        "assert count_bits(1) == 1\n",
        "assert count_bits(2) == 1\n",
        "assert count_bits(3) == 2\n",
        "assert count_bits(4) == 1\n",
        "assert count_bits(5) == 2\n",
        "assert count_bits(6) == 2\n",
        "assert count_bits(7) == 3\n",
        "assert count_bits(8) == 1\n",
        "assert count_bits(10) == 2\n",
        "assert count_bits(12) == 2\n",
        "assert count_bits(15) == 4\n",
        "\n",
        "print(\"Все тесты пройдены успешно!\")"
      ],
      "metadata": {
        "id": "6tkfDJRz6dp_",
        "colab": {
          "base_uri": "https://localhost:8080/"
        },
        "outputId": "fb3d0359-41bb-4d10-a440-1565ee007589"
      },
      "execution_count": 19,
      "outputs": [
        {
          "output_type": "stream",
          "name": "stdout",
          "text": [
            "Все тесты пройдены успешно!\n"
          ]
        }
      ]
    },
    {
      "cell_type": "markdown",
      "source": [
        "# Задача 4\n",
        "Написать функцию, которая принимает положительное число. Функция должна вернуть то,\n",
        "сколько раз необходимо перемножать цифры числа или результат перемножения, чтобы\n",
        "получилось число состоящее из одной цифры.\n",
        "Например, для входного числа:\n",
        "· 39 функция должна вернуть 3, так как 3*9=27 => 2*7=14 => 1*4=4\n",
        "· 4 функция должна вернуть 0, так как число уже состоит из одной цифры\n",
        "· 999 функция должна вернуть 4, так как 9*9*9=729 => 7*2*9=126 => 1*2*6=12 =>\n",
        "1*2=2. Написать тесты для кода"
      ],
      "metadata": {
        "id": "26dDUz-Ae17N"
      }
    },
    {
      "cell_type": "code",
      "source": [
        "# Функция для перемножения цифр в числе\n",
        "def product_of_digits(n):\n",
        "  product = 1\n",
        "  while n:\n",
        "    product *= n % 10\n",
        "    n //= 10\n",
        "  return product\n",
        "\n",
        "# Функция подсчёта кол-ва операций перемножения цифр для получения однозначного числа\n",
        "def count_multiplications(n):\n",
        "  count = 0\n",
        "  while n > 9:\n",
        "    n = product_of_digits(n)\n",
        "    count += 1\n",
        "  return count\n",
        "\n",
        "# Тесты\n",
        "assert count_multiplications(39) == 3\n",
        "assert count_multiplications(4) == 0\n",
        "assert count_multiplications(999) == 4\n",
        "assert count_multiplications(1) == 0\n",
        "\n",
        "print(\"Все тесты пройдены успешно!\")"
      ],
      "metadata": {
        "id": "BH1A_Mgi6i4G",
        "colab": {
          "base_uri": "https://localhost:8080/"
        },
        "outputId": "58fdeb33-eb01-422f-8163-7ff202c26645"
      },
      "execution_count": 29,
      "outputs": [
        {
          "output_type": "stream",
          "name": "stdout",
          "text": [
            "Все тесты пройдены успешно!\n"
          ]
        }
      ]
    },
    {
      "cell_type": "markdown",
      "source": [
        "# Задача 5\n",
        "Написать функцию, которая принимает два целочисленных вектора одинаковой длины и\n",
        "возвращает среднеквадратическое отклонение двух векторов. Написать тесты для кода"
      ],
      "metadata": {
        "id": "0nS-kIa8g8vd"
      }
    },
    {
      "cell_type": "code",
      "source": [
        "def mse(pred, true):\n",
        "    # Your code goes here\n",
        "    pass"
      ],
      "metadata": {
        "id": "8iphx4LM6xbx"
      },
      "execution_count": null,
      "outputs": []
    },
    {
      "cell_type": "markdown",
      "source": [
        "# Задача 6\n",
        "Написать функцию, принимающая целое положительное число. Функция должна вернуть\n",
        "строку вида “(n1**p1)(n2**p2)…(nk**pk)” представляющая разложение числа на простые\n",
        "множители (если pi == 1, то выводить только ni).\n",
        "Например, для числа 86240 функция должна вернуть “(2**5)(5)(7**2)(11)”. Написать тесты для кода"
      ],
      "metadata": {
        "id": "vpIPKL439zkw"
      }
    },
    {
      "cell_type": "code",
      "source": [
        "# Your code goes here"
      ],
      "metadata": {
        "id": "pFebmcZk94Jw"
      },
      "execution_count": null,
      "outputs": []
    },
    {
      "cell_type": "markdown",
      "source": [
        "# Задача 7\n",
        "Написать функцию, принимающая целое число n, задающее количество кубиков. Функция\n",
        "должна определить, можно ли из данного кол-ва кубиков построить пирамиду, то есть\n",
        "можно ли представить число n как 1^2+2^2+3^2+…+k^2. Если можно, то функция должна\n",
        "вернуть k, иначе строку “It is impossible”. Написать тесты для кода"
      ],
      "metadata": {
        "id": "ps2s0BudX7A2"
      }
    },
    {
      "cell_type": "code",
      "source": [
        "def pyramid(number):\n",
        "    # Your code goes here\n",
        "    pass"
      ],
      "metadata": {
        "id": "3YPjEXxhX_YT"
      },
      "execution_count": null,
      "outputs": []
    },
    {
      "cell_type": "markdown",
      "source": [
        "# Задача 8\n",
        "Функция принимает на вход положительное число и определяет является ли оно сбалансированным, т.е. сумма цифр до средних равна сумме цифр после. Средними в случае нечетного числа цифр считать одну цифру, в случае четного - две средних. Написать тесты для кода"
      ],
      "metadata": {
        "id": "KeKgmIdAQMEJ"
      }
    },
    {
      "cell_type": "code",
      "source": [
        "# Your code goes here"
      ],
      "metadata": {
        "id": "gMAAqtqlQrZt"
      },
      "execution_count": null,
      "outputs": []
    }
  ]
}